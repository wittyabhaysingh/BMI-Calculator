{
 "cells": [
  {
   "cell_type": "markdown",
   "metadata": {},
   "source": [
    "## BMI Calculator"
   ]
  },
  {
   "cell_type": "code",
   "execution_count": 3,
   "metadata": {},
   "outputs": [
    {
     "name": "stdout",
     "output_type": "stream",
     "text": [
      "Your Body Mass Index (BMI) is:  23.856689453125\n",
      "Abhay, you are normal weight.\n"
     ]
    }
   ],
   "source": [
    "# Taking user's name as input\n",
    "name = input(\"Enter your name: \")\n",
    "\n",
    "# Taking user's weight as input\n",
    "while True:\n",
    "    weight = int(input(\"Enter your weight in pounds: \"))\n",
    "    if weight <= 0:\n",
    "        print(\"Please enter a valid weight.\")\n",
    "        continue\n",
    "    else:\n",
    "        break\n",
    "\n",
    "# Taking user's height as input\n",
    "while True:\n",
    "    height = int(input(\"Enter your height in inches: \"))\n",
    "    if height <= 0:\n",
    "        print(\"Please enter a valid height.\")\n",
    "        continue\n",
    "    else:\n",
    "        break\n",
    "\n",
    "# Calculating the Body Mass Index (BMI)\n",
    "BMI = (weight * 703) / (height ** 2)\n",
    "print(\"Your Body Mass Index (BMI) is: \", BMI)\n",
    "\n",
    "if BMI > 0:\n",
    "    if BMI <= 18.5:\n",
    "        print(name + \", you are underweight.\")\n",
    "    elif BMI <= 24.9:\n",
    "        print(name + \", you are normal weight.\")\n",
    "    elif BMI <= 29.9:\n",
    "        print(name + \", you are overweight.\")\n",
    "    elif BMI <= 34.9:\n",
    "        print(name + \", you are obese.\")\n",
    "    elif BMI <= 39.9:\n",
    "        print(name + \", you are severely obese.\")\n",
    "    else:\n",
    "        print(name + \", you are morbidly obese.\")\n",
    "else:\n",
    "    print(\"Enter valid input.\")"
   ]
  },
  {
   "cell_type": "code",
   "execution_count": null,
   "metadata": {},
   "outputs": [],
   "source": []
  }
 ],
 "metadata": {
  "kernelspec": {
   "display_name": "Python 3",
   "language": "python",
   "name": "python3"
  },
  "language_info": {
   "codemirror_mode": {
    "name": "ipython",
    "version": 3
   },
   "file_extension": ".py",
   "mimetype": "text/x-python",
   "name": "python",
   "nbconvert_exporter": "python",
   "pygments_lexer": "ipython3",
   "version": "3.10.0"
  }
 },
 "nbformat": 4,
 "nbformat_minor": 2
}
